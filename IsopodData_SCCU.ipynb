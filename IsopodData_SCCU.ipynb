{
  "cells":[
    {
      "cell_type":"code",
      "source":[
        "import numpy as np\n",
        "import pandas as pd\n",
        "import seaborn as sns\n",
        "import matplotlib.pyplot as plt\n",
        "################################\n",
        "data = 'dataIsopod3.csv'\n",
        "df = pd.read_csv(data)\n",
        "df # this is your data reorganized, conv to .csv for input via pandas package --> dataframe = df\n",
        "df2 = pd.read_csv('COMBOSTATUS.csv')\n",
        "df2"
      ],
      "execution_count":4,
      "outputs":[
        {
          "data":{
            "text\/html":[
              "<div>\n",
              "<style scoped>\n",
              "    .dataframe tbody tr th:only-of-type {\n",
              "        vertical-align: middle;\n",
              "    }\n",
              "\n",
              "    .dataframe tbody tr th {\n",
              "        vertical-align: top;\n",
              "    }\n",
              "\n",
              "    .dataframe thead th {\n",
              "        text-align: right;\n",
              "    }\n",
              "<\/style>\n",
              "<table border=\"1\" class=\"dataframe\">\n",
              "  <thead>\n",
              "    <tr style=\"text-align: right;\">\n",
              "      <th><\/th>\n",
              "      <th>VO2 (mL\/h)<\/th>\n",
              "      <th>StatusT_RP<\/th>\n",
              "    <\/tr>\n",
              "  <\/thead>\n",
              "  <tbody>\n",
              "    <tr>\n",
              "      <th>0<\/th>\n",
              "      <td>1.697856<\/td>\n",
              "      <td>RoomOpen<\/td>\n",
              "    <\/tr>\n",
              "    <tr>\n",
              "      <th>1<\/th>\n",
              "      <td>0.547780<\/td>\n",
              "      <td>RoomClosed<\/td>\n",
              "    <\/tr>\n",
              "    <tr>\n",
              "      <th>2<\/th>\n",
              "      <td>0.277897<\/td>\n",
              "      <td>WarmOpen<\/td>\n",
              "    <\/tr>\n",
              "    <tr>\n",
              "      <th>3<\/th>\n",
              "      <td>0.195277<\/td>\n",
              "      <td>WarmClosed<\/td>\n",
              "    <\/tr>\n",
              "    <tr>\n",
              "      <th>4<\/th>\n",
              "      <td>0.580545<\/td>\n",
              "      <td>AmbOpen<\/td>\n",
              "    <\/tr>\n",
              "    <tr>\n",
              "      <th>5<\/th>\n",
              "      <td>0.210627<\/td>\n",
              "      <td>AmbClosed<\/td>\n",
              "    <\/tr>\n",
              "    <tr>\n",
              "      <th>6<\/th>\n",
              "      <td>0.631879<\/td>\n",
              "      <td>RoomOpen<\/td>\n",
              "    <\/tr>\n",
              "    <tr>\n",
              "      <th>7<\/th>\n",
              "      <td>0.747969<\/td>\n",
              "      <td>RoomClosed<\/td>\n",
              "    <\/tr>\n",
              "    <tr>\n",
              "      <th>8<\/th>\n",
              "      <td>0.346789<\/td>\n",
              "      <td>WarmOpen<\/td>\n",
              "    <\/tr>\n",
              "    <tr>\n",
              "      <th>9<\/th>\n",
              "      <td>0.000000<\/td>\n",
              "      <td>WarmClosed<\/td>\n",
              "    <\/tr>\n",
              "    <tr>\n",
              "      <th>10<\/th>\n",
              "      <td>0.288156<\/td>\n",
              "      <td>AmbOpen<\/td>\n",
              "    <\/tr>\n",
              "    <tr>\n",
              "      <th>11<\/th>\n",
              "      <td>0.279121<\/td>\n",
              "      <td>AmbClosed<\/td>\n",
              "    <\/tr>\n",
              "    <tr>\n",
              "      <th>12<\/th>\n",
              "      <td>0.902508<\/td>\n",
              "      <td>RoomOpen<\/td>\n",
              "    <\/tr>\n",
              "    <tr>\n",
              "      <th>13<\/th>\n",
              "      <td>0.540908<\/td>\n",
              "      <td>RoomClosed<\/td>\n",
              "    <\/tr>\n",
              "    <tr>\n",
              "      <th>14<\/th>\n",
              "      <td>0.411860<\/td>\n",
              "      <td>WarmOpen<\/td>\n",
              "    <\/tr>\n",
              "    <tr>\n",
              "      <th>15<\/th>\n",
              "      <td>0.385693<\/td>\n",
              "      <td>WarmClosed<\/td>\n",
              "    <\/tr>\n",
              "    <tr>\n",
              "      <th>16<\/th>\n",
              "      <td>0.287688<\/td>\n",
              "      <td>AmbOpen<\/td>\n",
              "    <\/tr>\n",
              "    <tr>\n",
              "      <th>17<\/th>\n",
              "      <td>0.069163<\/td>\n",
              "      <td>AmbClosed<\/td>\n",
              "    <\/tr>\n",
              "    <tr>\n",
              "      <th>18<\/th>\n",
              "      <td>1.567229<\/td>\n",
              "      <td>RoomOpen<\/td>\n",
              "    <\/tr>\n",
              "    <tr>\n",
              "      <th>19<\/th>\n",
              "      <td>0.673101<\/td>\n",
              "      <td>RoomClosed<\/td>\n",
              "    <\/tr>\n",
              "    <tr>\n",
              "      <th>20<\/th>\n",
              "      <td>0.000000<\/td>\n",
              "      <td>WarmOpen<\/td>\n",
              "    <\/tr>\n",
              "    <tr>\n",
              "      <th>21<\/th>\n",
              "      <td>0.064201<\/td>\n",
              "      <td>WarmClosed<\/td>\n",
              "    <\/tr>\n",
              "    <tr>\n",
              "      <th>22<\/th>\n",
              "      <td>0.143017<\/td>\n",
              "      <td>AmbOpen<\/td>\n",
              "    <\/tr>\n",
              "    <tr>\n",
              "      <th>23<\/th>\n",
              "      <td>0.000000<\/td>\n",
              "      <td>AmbClosed<\/td>\n",
              "    <\/tr>\n",
              "    <tr>\n",
              "      <th>24<\/th>\n",
              "      <td>0.620281<\/td>\n",
              "      <td>RoomOpen<\/td>\n",
              "    <\/tr>\n",
              "    <tr>\n",
              "      <th>25<\/th>\n",
              "      <td>0.602918<\/td>\n",
              "      <td>RoomClosed<\/td>\n",
              "    <\/tr>\n",
              "    <tr>\n",
              "      <th>26<\/th>\n",
              "      <td>0.065268<\/td>\n",
              "      <td>WarmOpen<\/td>\n",
              "    <\/tr>\n",
              "    <tr>\n",
              "      <th>27<\/th>\n",
              "      <td>0.329834<\/td>\n",
              "      <td>WarmClosed<\/td>\n",
              "    <\/tr>\n",
              "    <tr>\n",
              "      <th>28<\/th>\n",
              "      <td>0.354706<\/td>\n",
              "      <td>AmbOpen<\/td>\n",
              "    <\/tr>\n",
              "    <tr>\n",
              "      <th>29<\/th>\n",
              "      <td>0.137567<\/td>\n",
              "      <td>AmbClosed<\/td>\n",
              "    <\/tr>\n",
              "    <tr>\n",
              "      <th>30<\/th>\n",
              "      <td>0.342004<\/td>\n",
              "      <td>RoomOpen<\/td>\n",
              "    <\/tr>\n",
              "    <tr>\n",
              "      <th>31<\/th>\n",
              "      <td>1.001854<\/td>\n",
              "      <td>RoomClosed<\/td>\n",
              "    <\/tr>\n",
              "    <tr>\n",
              "      <th>32<\/th>\n",
              "      <td>0.195277<\/td>\n",
              "      <td>WarmOpen<\/td>\n",
              "    <\/tr>\n",
              "    <tr>\n",
              "      <th>33<\/th>\n",
              "      <td>0.000000<\/td>\n",
              "      <td>WarmClosed<\/td>\n",
              "    <\/tr>\n",
              "    <tr>\n",
              "      <th>34<\/th>\n",
              "      <td>0.000000<\/td>\n",
              "      <td>AmbOpen<\/td>\n",
              "    <\/tr>\n",
              "    <tr>\n",
              "      <th>35<\/th>\n",
              "      <td>0.273810<\/td>\n",
              "      <td>AmbClosed<\/td>\n",
              "    <\/tr>\n",
              "  <\/tbody>\n",
              "<\/table>\n",
              "<\/div>"
            ]
          },
          "metadata":{
            
          },
          "output_type":"display_data"
        }
      ],
      "metadata":{
        
      }
    },
    {
      "cell_type":"code",
      "source":[
        "# possibility 2 for data visualization (ggplot, point plot)\n",
        "from lets_plot import *\n",
        "ggplot(df) + geom_point(aes(color=\"status\", x=\"Temp Trtmt\", y=\"Weight Specific VO2 \")) + ggtitle(\"Weight-specific VO2 over varying temp treatments\") + xlab(\"Temperature Treatment\") + ylab(\"Weight Specific VO2 (mLg-1h-1)\")"
      ],
      "execution_count":3,
      "outputs":[
        {
          "data":{
            "text\/html":[
              "<html lang=\"en\">\n",
              "   <head>\n",
              "       <script type=\"text\/javascript\" data-lets-plot-script=\"library\" src=\"https:\/\/cdn.jsdelivr.net\/gh\/JetBrains\/lets-plot@v2.2.0\/js-package\/distr\/lets-plot.min.js\"><\/script>\n",
              "   <\/head>\n",
              "   <body>\n",
              "          <div id=\"ioKa8J\"><\/div>\n",
              "   <script type=\"text\/javascript\" data-lets-plot-script=\"plot\">\n",
              "       var plotSpec={\n",
              "\"data\":{\n",
              "\"Weight Specific VO2 \":[11.67723289,8.393643875,2.208876906,1.703442797,2.856810564,1.581856278],\n",
              "\"Temp Trtmt\":[\"Room\",\"Room\",\"Warm\",\"Warm\",\"Ambient\",\"Ambient\"],\n",
              "\"status\":[\"Open\",\"Closed\",\"Open\",\"Closed\",\"Open\",\"Closed\"]\n",
              "},\n",
              "\"mapping\":{\n",
              "},\n",
              "\"data_meta\":{\n",
              "},\n",
              "\"ggtitle\":{\n",
              "\"text\":\"Weight-specific VO2 over varying temp treatments\"\n",
              "},\n",
              "\"kind\":\"plot\",\n",
              "\"scales\":[{\n",
              "\"name\":\"Temperature Treatment\",\n",
              "\"aesthetic\":\"x\"\n",
              "},{\n",
              "\"name\":\"Weight Specific VO2 (mLg-1h-1)\",\n",
              "\"aesthetic\":\"y\"\n",
              "}],\n",
              "\"layers\":[{\n",
              "\"geom\":\"point\",\n",
              "\"mapping\":{\n",
              "\"x\":\"Temp Trtmt\",\n",
              "\"y\":\"Weight Specific VO2 \",\n",
              "\"color\":\"status\"\n",
              "},\n",
              "\"data_meta\":{\n",
              "},\n",
              "\"data\":{\n",
              "}\n",
              "}]\n",
              "};\n",
              "       var plotContainer = document.getElementById(\"ioKa8J\");\n",
              "       LetsPlot.buildPlotFromProcessedSpecs(plotSpec, -1, -1, plotContainer);\n",
              "   <\/script>\n",
              "   <\/body>\n",
              "<\/html>"
            ]
          },
          "metadata":{
            
          },
          "output_type":"display_data"
        }
      ],
      "metadata":{
        
      }
    },
    {
      "cell_type":"code",
      "source":[
        "# possibility 1a for data visualization (ggplot, stacked box)\n",
        "from lets_plot import *\n",
        "ggplot(df) + geom_bar(aes(fill=\"status\", x=\"Temp Trtmt\", y=\"Weight Specific VO2 \"), stat='identity') + ggtitle(\"Weight-specific VO2 over varying temp treatments\") + xlab(\"Temperature Treatment\") + ylab(\"Weight Specific VO2 (mLg-1h-1)\")"
      ],
      "execution_count":4,
      "outputs":[
        {
          "data":{
            "text\/html":[
              "<html lang=\"en\">\n",
              "   <head>\n",
              "       <script type=\"text\/javascript\" data-lets-plot-script=\"library\" src=\"https:\/\/cdn.jsdelivr.net\/gh\/JetBrains\/lets-plot@v2.2.0\/js-package\/distr\/lets-plot.min.js\"><\/script>\n",
              "   <\/head>\n",
              "   <body>\n",
              "          <div id=\"60PVxu\"><\/div>\n",
              "   <script type=\"text\/javascript\" data-lets-plot-script=\"plot\">\n",
              "       var plotSpec={\n",
              "\"data\":{\n",
              "\"Weight Specific VO2 \":[11.67723289,8.393643875,2.208876906,1.703442797,2.856810564,1.581856278],\n",
              "\"Temp Trtmt\":[\"Room\",\"Room\",\"Warm\",\"Warm\",\"Ambient\",\"Ambient\"],\n",
              "\"status\":[\"Open\",\"Closed\",\"Open\",\"Closed\",\"Open\",\"Closed\"]\n",
              "},\n",
              "\"mapping\":{\n",
              "},\n",
              "\"data_meta\":{\n",
              "},\n",
              "\"ggtitle\":{\n",
              "\"text\":\"Weight-specific VO2 over varying temp treatments\"\n",
              "},\n",
              "\"kind\":\"plot\",\n",
              "\"scales\":[{\n",
              "\"name\":\"Temperature Treatment\",\n",
              "\"aesthetic\":\"x\"\n",
              "},{\n",
              "\"name\":\"Weight Specific VO2 (mLg-1h-1)\",\n",
              "\"aesthetic\":\"y\"\n",
              "}],\n",
              "\"layers\":[{\n",
              "\"geom\":\"bar\",\n",
              "\"stat\":\"identity\",\n",
              "\"mapping\":{\n",
              "\"x\":\"Temp Trtmt\",\n",
              "\"y\":\"Weight Specific VO2 \",\n",
              "\"fill\":\"status\"\n",
              "},\n",
              "\"data_meta\":{\n",
              "},\n",
              "\"data\":{\n",
              "}\n",
              "}]\n",
              "};\n",
              "       var plotContainer = document.getElementById(\"60PVxu\");\n",
              "       LetsPlot.buildPlotFromProcessedSpecs(plotSpec, -1, -1, plotContainer);\n",
              "   <\/script>\n",
              "   <\/body>\n",
              "<\/html>"
            ]
          },
          "metadata":{
            
          },
          "output_type":"display_data"
        }
      ],
      "metadata":{
        
      }
    },
    {
      "cell_type":"code",
      "source":[
        "# possibility 2 for data visualization, based on sample xlsx \n",
        "### pivot data\n",
        "dfp = df.pivot(index='Temp Trtmt', columns='status', values='Weight Specific VO2 ')\n",
        "yerr = df.pivot(index='Temp Trtmt', columns='status', values='sterr')\n",
        "ax = dfp.plot(kind='bar', \n",
        "    yerr=yerr, \n",
        "    rot=0,\n",
        "    cmap='coolwarm', # I like cool but I'm not sure if your professor is chill\n",
        "    title='Weight Specific VO2 Over Varying Temp Treatments',\n",
        "    xlabel='Temperature Treatment',\n",
        "    ylabel='Weight Specific VO2 (mLg-1h-1)'\n",
        "    )\n",
        "ttl = ax.title\n",
        "ttl.set_weight('bold')\n",
        "ax.spines['right'].set_color((.8,.8,.8))\n",
        "ax.spines['top'].set_color((.8,.8,.8))"
      ],
      "execution_count":7,
      "outputs":[
        {
          "data":{
            "image\/png":"[encoded data removed]"
          },
          "metadata":{
            "image\/png":{
              
            }
          },
          "output_type":"display_data"
        }
      ],
      "metadata":{
        
      }
    },
    {
      "cell_type":"code",
      "source":[
        "sns.set_style(\"whitegrid\")\n",
        "# ex = df2.boxplot(by = 'StatusT_RP', column=['VO2 (mL\/h)'])\n",
        "exx = sns.boxplot(x=df2['StatusT_RP'], y=df2['VO2 (mL\/h)'],palette='coolwarm')\n",
        "exx.set_xticklabels(exx.get_xticklabels(), rotation=45)\n",
        "exx.set(xlabel='Parameters [Temp][Status]',title='Non weight specific VO2 over varying environmental parameters')\n",
        "ttl = exx.title\n",
        "ttl.set_weight('bold')"
      ],
      "execution_count":12,
      "outputs":[
        {
          "data":{
            "image\/png":"[encoded data removed]"
          },
          "metadata":{
            "image\/png":{
              
            }
          },
          "output_type":"display_data"
        }
      ],
      "metadata":{
        
      }
    }
  ],
  "metadata":{
    
  },
  "nbformat":4,
  "nbformat_minor":0
}